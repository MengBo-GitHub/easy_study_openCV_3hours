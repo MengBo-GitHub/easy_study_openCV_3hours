{
 "cells": [
  {
   "cell_type": "code",
   "execution_count": 1,
   "metadata": {},
   "outputs": [],
   "source": [
    "import cv2"
   ]
  },
  {
   "cell_type": "code",
   "execution_count": 9,
   "metadata": {},
   "outputs": [],
   "source": [
    "# improt a image\n",
    "Image = cv2.imread(\"test.jpg\",cv2.IMREAD_COLOR)\n",
    "\n",
    "# create a window\n",
    "cv2.namedWindow(\"demo1\",cv2.WINDOW_NORMAL)\n",
    "\n",
    "# resize the window \n",
    "cv2.resizeWindow(\"demo1\",100,100)\n",
    "\n",
    "# show the image at the window \n",
    "cv2.imshow(\"demo1\",Image)\n",
    "\n",
    "# wait for a key to be pressed\n",
    "cv2.waitKey(0)\n",
    "\n",
    "# destroy the window\n",
    "cv2.destroyAllWindows()"
   ]
  }
 ],
 "metadata": {
  "kernelspec": {
   "display_name": "Python 3",
   "language": "python",
   "name": "python3"
  },
  "language_info": {
   "codemirror_mode": {
    "name": "ipython",
    "version": 3
   },
   "file_extension": ".py",
   "mimetype": "text/x-python",
   "name": "python",
   "nbconvert_exporter": "python",
   "pygments_lexer": "ipython3",
   "version": "3.10.10"
  }
 },
 "nbformat": 4,
 "nbformat_minor": 2
}
