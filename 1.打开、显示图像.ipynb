{
 "cells": [
  {
   "cell_type": "code",
   "execution_count": 1,
   "metadata": {},
   "outputs": [],
   "source": [
    "import cv2"
   ]
  },
  {
   "cell_type": "code",
   "execution_count": 12,
   "metadata": {},
   "outputs": [
    {
     "name": "stdout",
     "output_type": "stream",
     "text": [
      "<class 'numpy.ndarray'>\n",
      "(480, 720, 3)\n",
      "1036800\n",
      "uint8\n"
     ]
    }
   ],
   "source": [
    "# 读取图片\n",
    "img = cv2.imread(\"test.jpg\")\n",
    "img1 = cv2.imread(\"test.jpg\", cv2.IMREAD_COLOR) # 彩色\n",
    "img2 = cv2.imread(\"test.jpg\", cv2.IMREAD_GRAYSCALE) # 灰度\n",
    "img3 = cv2.imread(\"test.jpg\", cv2.IMREAD_UNCHANGED) # 不改变\n",
    "\n",
    "# 输出一些img的信息\n",
    "print(type(img)) # <class 'numpy.ndarray'>\n",
    "print(img.shape) # 高、 宽、 通道数\n",
    "print(img.size) # 总像素数\n",
    "print(img.dtype) # 数据类型\n",
    "\n",
    "\n",
    "# 显示图片\n",
    "cv2.imshow(\"image\", img2)\n",
    "cv2.waitKey(0)\n",
    "cv2.destroyAllWindows()"
   ]
  },
  {
   "cell_type": "code",
   "execution_count": null,
   "metadata": {},
   "outputs": [],
   "source": []
  }
 ],
 "metadata": {
  "kernelspec": {
   "display_name": "Python 3",
   "language": "python",
   "name": "python3"
  },
  "language_info": {
   "codemirror_mode": {
    "name": "ipython",
    "version": 3
   },
   "file_extension": ".py",
   "mimetype": "text/x-python",
   "name": "python",
   "nbconvert_exporter": "python",
   "pygments_lexer": "ipython3",
   "version": "3.10.10"
  }
 },
 "nbformat": 4,
 "nbformat_minor": 2
}
